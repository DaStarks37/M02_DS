{
 "cells": [
  {
   "cell_type": "code",
   "execution_count": 29,
   "id": "f50ac414",
   "metadata": {},
   "outputs": [
    {
     "name": "stdout",
     "output_type": "stream",
     "text": [
      "Too small\n"
     ]
    }
   ],
   "source": [
    "import random\n",
    "\n",
    "secret = random.randrange(1,11)\n",
    "guess = random.randrange(1,11)\n",
    "\n",
    "if guess > secret:\n",
    "    print(\"Too big\")\n",
    "elif guess < secret:\n",
    "    print(\"Too small\")\n",
    "elif guess == secret:\n",
    "    print(\"Just right\")"
   ]
  },
  {
   "cell_type": "code",
   "execution_count": 50,
   "id": "64fae41f",
   "metadata": {},
   "outputs": [
    {
     "name": "stdout",
     "output_type": "stream",
     "text": [
      "Matching foods: Cherry, Pea\n"
     ]
    }
   ],
   "source": [
    "food_describers = {\n",
    "    \"Green\": False,\n",
    "    \"Small\": True,\n",
    "}\n",
    "\n",
    "food_list = {\n",
    "    \"Cherry\": {\"Color\": \"Red\", \"Size\": \"Small\"},\n",
    "    \"Pea\": {\"Color\": \"Green\", \"Size\": \"Small\"},\n",
    "    \"Watermelon\": {\"Color\": \"Green\", \"Size\": \"Large\"},\n",
    "    \"Pumpkin\": {\"Color\": \"Orange\", \"Size\": \"Large\"}\n",
    "}\n",
    "\n",
    "def printfoodlist(food_describers, food_list):\n",
    "    # Make List\n",
    "    matching_foods = []\n",
    "    for food, attributes in food_list.items():\n",
    "        matches = True\n",
    "        for descriptor, value in food_describers.items():\n",
    "            # Check if the descriptor (Green,Small,Etc.) is relevant (True) and if the food matches this descriptor\n",
    "            if value and attributes.get(\"Color\") != descriptor and attributes.get(\"Size\") != descriptor:\n",
    "                matches = False\n",
    "                break\n",
    "        if matches == True:\n",
    "            matching_foods.append(food)\n",
    "    \n",
    "    # Print the matching food items\n",
    "    print(\"Matching foods:\", \", \".join(matching_foods))\n",
    "\n",
    "printfoodlist(food_describers, food_list)\n"
   ]
  },
  {
   "cell_type": "code",
   "execution_count": 46,
   "id": "f9fc2604",
   "metadata": {},
   "outputs": [
    {
     "name": "stdout",
     "output_type": "stream",
     "text": [
      "3\n",
      "2\n",
      "1\n",
      "0\n"
     ]
    }
   ],
   "source": [
    "numbas = [\n",
    "    3,\n",
    "    2,\n",
    "    1,\n",
    "    0\n",
    "]\n",
    "\n",
    "for value in numbas:\n",
    "    print(value)"
   ]
  },
  {
   "cell_type": "code",
   "execution_count": 57,
   "id": "5a81d851",
   "metadata": {},
   "outputs": [
    {
     "name": "stdout",
     "output_type": "stream",
     "text": [
      "too low\n",
      "too low\n",
      "too low\n",
      "too low\n",
      "too low\n",
      "too low\n",
      "found it!\n"
     ]
    }
   ],
   "source": [
    "guess_me = 7\n",
    "number = 1\n",
    "\n",
    "while True:\n",
    "    if number < guess_me:\n",
    "        print('too low')\n",
    "    elif number == guess_me:\n",
    "        print('found it!')\n",
    "        break\n",
    "    elif number > guess_me:\n",
    "        print('oops')\n",
    "        break\n",
    "    number += 1\n"
   ]
  },
  {
   "cell_type": "code",
   "execution_count": 58,
   "id": "f56ebdfa",
   "metadata": {},
   "outputs": [
    {
     "name": "stdout",
     "output_type": "stream",
     "text": [
      "too low\n",
      "too low\n",
      "too low\n",
      "too low\n",
      "too low\n",
      "found it!\n"
     ]
    }
   ],
   "source": [
    "guess_me = 5\n",
    "\n",
    "for number in range(10):\n",
    "    if number < guess_me:\n",
    "        print('too low')\n",
    "    elif number == guess_me:\n",
    "        print('found it!')\n",
    "        break\n",
    "    elif number > guess_me:\n",
    "        print('oops')\n",
    "        break\n"
   ]
  },
  {
   "cell_type": "code",
   "execution_count": null,
   "id": "dc538b87",
   "metadata": {},
   "outputs": [],
   "source": []
  },
  {
   "cell_type": "code",
   "execution_count": null,
   "id": "a395f884",
   "metadata": {},
   "outputs": [],
   "source": []
  }
 ],
 "metadata": {
  "kernelspec": {
   "display_name": "Python 3 (ipykernel)",
   "language": "python",
   "name": "python3"
  },
  "language_info": {
   "codemirror_mode": {
    "name": "ipython",
    "version": 3
   },
   "file_extension": ".py",
   "mimetype": "text/x-python",
   "name": "python",
   "nbconvert_exporter": "python",
   "pygments_lexer": "ipython3",
   "version": "3.11.5"
  }
 },
 "nbformat": 4,
 "nbformat_minor": 5
}
